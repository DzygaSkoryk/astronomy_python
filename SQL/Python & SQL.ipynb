{
 "cells": [
  {
   "cell_type": "code",
   "execution_count": 2,
   "metadata": {},
   "outputs": [
    {
     "name": "stdout",
     "output_type": "stream",
     "text": [
      "Collecting fugue\n",
      "  Downloading fugue-0.6.3-py3-none-any.whl (405 kB)\n",
      "\u001b[K     |████████████████████████████████| 405 kB 1.3 MB/s eta 0:00:01\n",
      "\u001b[?25hRequirement already satisfied: pandas>=1.0.2 in /home/dzyga/pythonvenvs/jupytervenv/lib/python3.8/site-packages (from fugue) (1.2.0)\n",
      "Collecting adagio>=0.2.3\n",
      "  Downloading adagio-0.2.3-py3-none-any.whl (26 kB)\n",
      "Requirement already satisfied: pytz>=2017.3 in /home/dzyga/pythonvenvs/jupytervenv/lib/python3.8/site-packages (from pandas>=1.0.2->fugue) (2020.5)\n",
      "Requirement already satisfied: python-dateutil>=2.7.3 in /home/dzyga/pythonvenvs/jupytervenv/lib/python3.8/site-packages (from pandas>=1.0.2->fugue) (2.8.1)\n",
      "Requirement already satisfied: numpy>=1.16.5 in /home/dzyga/pythonvenvs/jupytervenv/lib/python3.8/site-packages (from pandas>=1.0.2->fugue) (1.19.4)\n",
      "Collecting pyarrow>=0.15.1\n",
      "  Downloading pyarrow-5.0.0-cp38-cp38-manylinux2014_x86_64.whl (23.6 MB)\n",
      "\u001b[K     |████████████████████████████████| 23.6 MB 1.2 MB/s eta 0:00:012\n",
      "\u001b[?25hRequirement already satisfied: numpy>=1.16.5 in /home/dzyga/pythonvenvs/jupytervenv/lib/python3.8/site-packages (from pandas>=1.0.2->fugue) (1.19.4)\n",
      "Requirement already satisfied: six>=1.5 in /home/dzyga/pythonvenvs/jupytervenv/lib/python3.8/site-packages (from python-dateutil>=2.7.3->pandas>=1.0.2->fugue) (1.15.0)\n",
      "Collecting qpd>=0.2.4\n",
      "  Downloading qpd-0.2.5-py3-none-any.whl (194 kB)\n",
      "\u001b[K     |████████████████████████████████| 194 kB 3.6 MB/s eta 0:00:01\n",
      "\u001b[?25hRequirement already satisfied: pandas>=1.0.2 in /home/dzyga/pythonvenvs/jupytervenv/lib/python3.8/site-packages (from fugue) (1.2.0)\n",
      "Collecting antlr4-python3-runtime\n",
      "  Downloading antlr4-python3-runtime-4.9.2.tar.gz (117 kB)\n",
      "\u001b[K     |████████████████████████████████| 117 kB 5.5 MB/s eta 0:00:01\n",
      "\u001b[?25hCollecting sqlalchemy\n",
      "  Downloading SQLAlchemy-1.4.26-cp38-cp38-manylinux_2_5_x86_64.manylinux1_x86_64.manylinux_2_17_x86_64.manylinux2014_x86_64.whl (1.6 MB)\n",
      "\u001b[K     |████████████████████████████████| 1.6 MB 147 kB/s eta 0:00:01\n",
      "\u001b[?25hCollecting greenlet!=0.4.17\n",
      "  Downloading greenlet-1.1.2-cp38-cp38-manylinux_2_17_x86_64.manylinux2014_x86_64.whl (156 kB)\n",
      "\u001b[K     |████████████████████████████████| 156 kB 6.3 MB/s eta 0:00:01\n",
      "\u001b[?25hCollecting triad>=0.5.4\n",
      "  Downloading triad-0.5.5-py3-none-any.whl (54 kB)\n",
      "\u001b[K     |████████████████████████████████| 54 kB 3.0 MB/s eta 0:00:011\n",
      "\u001b[?25hRequirement already satisfied: pandas>=1.0.2 in /home/dzyga/pythonvenvs/jupytervenv/lib/python3.8/site-packages (from fugue) (1.2.0)\n",
      "Requirement already satisfied: six>=1.5 in /home/dzyga/pythonvenvs/jupytervenv/lib/python3.8/site-packages (from python-dateutil>=2.7.3->pandas>=1.0.2->fugue) (1.15.0)\n",
      "Collecting ciso8601\n",
      "  Downloading ciso8601-2.2.0.tar.gz (18 kB)\n",
      "  Installing build dependencies ... \u001b[?25ldone\n",
      "\u001b[?25h  Getting requirements to build wheel ... \u001b[?25ldone\n",
      "\u001b[?25h    Preparing wheel metadata ... \u001b[?25ldone\n",
      "\u001b[?25hCollecting fs\n",
      "  Downloading fs-2.4.13-py2.py3-none-any.whl (131 kB)\n",
      "\u001b[K     |████████████████████████████████| 131 kB 4.8 MB/s eta 0:00:01\n",
      "\u001b[?25hRequirement already satisfied: setuptools in /home/dzyga/pythonvenvs/jupytervenv/lib/python3.8/site-packages (from fs->triad>=0.5.4->fugue) (51.0.0)\n",
      "Requirement already satisfied: pytz>=2017.3 in /home/dzyga/pythonvenvs/jupytervenv/lib/python3.8/site-packages (from pandas>=1.0.2->fugue) (2020.5)\n",
      "Requirement already satisfied: six>=1.5 in /home/dzyga/pythonvenvs/jupytervenv/lib/python3.8/site-packages (from python-dateutil>=2.7.3->pandas>=1.0.2->fugue) (1.15.0)\n",
      "Collecting appdirs~=1.4.3\n",
      "  Downloading appdirs-1.4.4-py2.py3-none-any.whl (9.6 kB)\n",
      "Building wheels for collected packages: antlr4-python3-runtime, ciso8601\n",
      "  Building wheel for antlr4-python3-runtime (setup.py) ... \u001b[?25ldone\n",
      "\u001b[?25h  Created wheel for antlr4-python3-runtime: filename=antlr4_python3_runtime-4.9.2-py3-none-any.whl size=144567 sha256=412ffba64f5fcc2e6ed4b03602d3ae08b85cd570d894c1da1a439c1cb88f2767\n",
      "  Stored in directory: /home/dzyga/.cache/pip/wheels/3f/3a/15/1b8a6bb658d20ac44131971882d45f496f13ac14a8c5830e20\n",
      "  Building wheel for ciso8601 (PEP 517) ... \u001b[?25ldone\n",
      "\u001b[?25h  Created wheel for ciso8601: filename=ciso8601-2.2.0-cp38-cp38-linux_x86_64.whl size=38382 sha256=58ad875641446db921e915151e50407e5e2b9133d1cbb2ccd98b80ddc695a70c\n",
      "  Stored in directory: /home/dzyga/.cache/pip/wheels/43/60/a0/19cfc2653f825144b434d455710d205ce1f80cdb498e202391\n",
      "Successfully built antlr4-python3-runtime ciso8601\n",
      "Installing collected packages: appdirs, pyarrow, fs, ciso8601, triad, greenlet, sqlalchemy, antlr4-python3-runtime, adagio, qpd, fugue\n",
      "Successfully installed adagio-0.2.3 antlr4-python3-runtime-4.9.2 appdirs-1.4.4 ciso8601-2.2.0 fs-2.4.13 fugue-0.6.3 greenlet-1.1.2 pyarrow-5.0.0 qpd-0.2.5 sqlalchemy-1.4.26 triad-0.5.5\n",
      "\u001b[33mWARNING: You are using pip version 20.3.1; however, version 21.3 is available.\n",
      "You should consider upgrading via the '/home/dzyga/pythonvenvs/jupytervenv/bin/python -m pip install --upgrade pip' command.\u001b[0m\n"
     ]
    }
   ],
   "source": [
    "!pip install fugue"
   ]
  },
  {
   "cell_type": "code",
   "execution_count": null,
   "metadata": {},
   "outputs": [],
   "source": []
  }
 ],
 "metadata": {
  "kernelspec": {
   "display_name": "Python 3",
   "language": "python",
   "name": "python3"
  },
  "language_info": {
   "codemirror_mode": {
    "name": "ipython",
    "version": 3
   },
   "file_extension": ".py",
   "mimetype": "text/x-python",
   "name": "python",
   "nbconvert_exporter": "python",
   "pygments_lexer": "ipython3",
   "version": "3.8.10"
  }
 },
 "nbformat": 4,
 "nbformat_minor": 4
}
