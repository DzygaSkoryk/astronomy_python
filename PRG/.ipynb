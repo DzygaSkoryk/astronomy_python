{
 "cells": [
  {
   "cell_type": "code",
   "execution_count": 1,
   "metadata": {},
   "outputs": [],
   "source": [
    "import numpy as np"
   ]
  },
  {
   "cell_type": "code",
   "execution_count": 2,
   "metadata": {},
   "outputs": [],
   "source": [
    "# import data from a file \n",
    "\n",
    "def mean_datasets(Files):\n",
    "    #print('Number of inputs files is ', len(Files))\n",
    "    for i in Files:\n",
    "        Data = np.loadtxt(Files[0], delimiter = ',')\n",
    "        DataCube = np.array(Data)\n",
    "    #print('Size of one array is ', Data.shape, '\\n')"
   ]
  },
  {
   "cell_type": "code",
   "execution_count": null,
   "metadata": {},
   "outputs": [],
   "source": [
    "for name in Files[1:]:\n",
    "    #print('Next file --> ', name)\n",
    "    Data1 = np.loadtxt(name, delimiter = ',')\n",
    "    Data1 = np.array(Data1)\n",
    "    DataCube = np.dstack((DataCube, Data1))\n",
    "    #print('size of stacked DataCube is ', DataCube.shape)\n",
    "    #print('\\n')\n",
    "    #print('size of stacked DataCube is ', DataCube.shape)\n",
    "    return np.round(np.mean(DataCube, axis = 2),1)"
   ]
  },
  {
   "cell_type": "code",
   "execution_count": null,
   "metadata": {},
   "outputs": [],
   "source": [
    "mean_datasets(['data1.csv', 'data2.csv', 'data3.csv'])"
   ]
  },
  {
   "cell_type": "code",
   "execution_count": 4,
   "metadata": {},
   "outputs": [
    {
     "data": {
      "text/plain": [
       "numpy.ndarray"
      ]
     },
     "execution_count": 4,
     "metadata": {},
     "output_type": "execute_result"
    }
   ],
   "source": [
    "type(np.loadtxt('data1.csv', delimiter = ','))"
   ]
  },
  {
   "cell_type": "code",
   "execution_count": null,
   "metadata": {},
   "outputs": [],
   "source": []
  }
 ],
 "metadata": {
  "kernelspec": {
   "display_name": "Python 3",
   "language": "python",
   "name": "python3"
  },
  "language_info": {
   "codemirror_mode": {
    "name": "ipython",
    "version": 3
   },
   "file_extension": ".py",
   "mimetype": "text/x-python",
   "name": "python",
   "nbconvert_exporter": "python",
   "pygments_lexer": "ipython3",
   "version": "3.7.3"
  }
 },
 "nbformat": 4,
 "nbformat_minor": 2
}
