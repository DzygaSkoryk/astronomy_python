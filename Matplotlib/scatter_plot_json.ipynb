{
 "cells": [
  {
   "cell_type": "markdown",
   "metadata": {},
   "source": [
    "Data Available from the Minor Planet Center\n",
    "\n",
    "source: https://minorplanetcenter.net/data\n",
    "\n",
    "url file: https://www.minorplanetcenter.net/Extended_Files/neocp.json \n",
    "        \n",
    "Explanations: Objects awaiting further observations to confirm as NEOs "
   ]
  },
  {
   "cell_type": "markdown",
   "metadata": {},
   "source": [
    "https://catalog.data.gov/dataset/fireball-and-bolide-reports  \n",
    "\n",
    "https://cneos.jpl.nasa.gov/fireballs/ "
   ]
  },
  {
   "cell_type": "code",
   "execution_count": 1,
   "metadata": {},
   "outputs": [],
   "source": [
    "import numpy as np\n",
    "import json\n",
    "\n",
    "import matplotlib.pyplot as plt\n",
    "%matplotlib inline"
   ]
  },
  {
   "cell_type": "code",
   "execution_count": 2,
   "metadata": {},
   "outputs": [],
   "source": [
    "json_file = 'neocp.json'"
   ]
  },
  {
   "cell_type": "code",
   "execution_count": 3,
   "metadata": {},
   "outputs": [],
   "source": [
    "with open(json_file, \"r\") as file:\n",
    "    data = json.load(file)"
   ]
  },
  {
   "cell_type": "code",
   "execution_count": 4,
   "metadata": {},
   "outputs": [
    {
     "data": {
      "text/plain": [
       "[{'Temp_Desig': 'I63E1If',\n",
       "  'Score': 100,\n",
       "  'Discovery_year': 2020,\n",
       "  'Discovery_month': 2,\n",
       "  'Discovery_day': 4.3,\n",
       "  'R.A.': 22.2116,\n",
       "  'Decl.': 35.2371,\n",
       "  'V': 29.5,\n",
       "  'Updated': 'Added Feb. 10.68 UT',\n",
       "  'NObs': 7,\n",
       "  'Arc': 0.03,\n",
       "  'H': 30.7,\n",
       "  'Not_Seen_dys': 8.017},\n",
       " {'Temp_Desig': 'ZTF0D86',\n",
       "  'Score': 100,\n",
       "  'Discovery_year': 2020,\n",
       "  'Discovery_month': 2,\n",
       "  'Discovery_day': 7.5,\n",
       "  'R.A.': 18.6784,\n",
       "  'Decl.': 18.1084,\n",
       "  'V': 20.7,\n",
       "  'Updated': 'Updated Feb. 10.68 UT',\n",
       "  'NObs': 4,\n",
       "  'Arc': 0.05,\n",
       "  'H': 21.9,\n",
       "  'Not_Seen_dys': 4.817},\n",
       " {'Temp_Desig': 'P10XEUN',\n",
       "  'Score': 75,\n",
       "  'Discovery_year': 2020,\n",
       "  'Discovery_month': 2,\n",
       "  'Discovery_day': 5.6,\n",
       "  'R.A.': 13.4532,\n",
       "  'Decl.': -29.2894,\n",
       "  'V': 21.8,\n",
       "  'Updated': 'Updated Feb. 10.68 UT',\n",
       "  'NObs': 7,\n",
       "  'Arc': 0.75,\n",
       "  'H': 15.7,\n",
       "  'Not_Seen_dys': 5.997},\n",
       " {'Temp_Desig': 'P10XEUM',\n",
       "  'Score': 60,\n",
       "  'Discovery_year': 2020,\n",
       "  'Discovery_month': 2,\n",
       "  'Discovery_day': 5.6,\n",
       "  'R.A.': 13.3793,\n",
       "  'Decl.': -29.8693,\n",
       "  'V': 21.7,\n",
       "  'Updated': 'Updated Feb. 10.68 UT',\n",
       "  'NObs': 10,\n",
       "  'Arc': 0.79,\n",
       "  'H': 14.1,\n",
       "  'Not_Seen_dys': 5.954},\n",
       " {'Temp_Desig': 'P10XDg0',\n",
       "  'Score': 78,\n",
       "  'Discovery_year': 2020,\n",
       "  'Discovery_month': 2,\n",
       "  'Discovery_day': 5.5,\n",
       "  'R.A.': 11.5316,\n",
       "  'Decl.': 42.153,\n",
       "  'V': 21.1,\n",
       "  'Updated': 'Updated Feb. 10.68 UT',\n",
       "  'NObs': 6,\n",
       "  'Arc': 0.79,\n",
       "  'H': 16.8,\n",
       "  'Not_Seen_dys': 6.017},\n",
       " {'Temp_Desig': 'P10XDdl',\n",
       "  'Score': 70,\n",
       "  'Discovery_year': 2020,\n",
       "  'Discovery_month': 2,\n",
       "  'Discovery_day': 5.6,\n",
       "  'R.A.': 11.3401,\n",
       "  'Decl.': 50.2356,\n",
       "  'V': 21.4,\n",
       "  'Updated': 'Updated Feb. 10.69 UT',\n",
       "  'NObs': 3,\n",
       "  'Arc': 0.01,\n",
       "  'H': 16.3,\n",
       "  'Not_Seen_dys': 6.757},\n",
       " {'Temp_Desig': 'C23N1Z2',\n",
       "  'Score': 100,\n",
       "  'Discovery_year': 2020,\n",
       "  'Discovery_month': 2,\n",
       "  'Discovery_day': 5.4,\n",
       "  'R.A.': 11.265,\n",
       "  'Decl.': 62.3237,\n",
       "  'V': 22.3,\n",
       "  'Updated': 'Updated Feb. 10.69 UT',\n",
       "  'NObs': 10,\n",
       "  'Arc': 1.02,\n",
       "  'H': 24.6,\n",
       "  'Not_Seen_dys': 5.907},\n",
       " {'Temp_Desig': 'ZTF0Czw',\n",
       "  'Score': 100,\n",
       "  'Discovery_year': 2020,\n",
       "  'Discovery_month': 1,\n",
       "  'Discovery_day': 31.3,\n",
       "  'R.A.': 8.5751,\n",
       "  'Decl.': 18.8549,\n",
       "  'V': 20.8,\n",
       "  'Updated': 'Updated Feb. 10.69 UT',\n",
       "  'NObs': 4,\n",
       "  'Arc': 1.0,\n",
       "  'H': 19.9,\n",
       "  'Not_Seen_dys': 11.034},\n",
       " {'Temp_Desig': 'CA2010V',\n",
       "  'Score': 100,\n",
       "  'Discovery_year': 2020,\n",
       "  'Discovery_month': 1,\n",
       "  'Discovery_day': 31.9,\n",
       "  'R.A.': 4.3233,\n",
       "  'Decl.': 58.5587,\n",
       "  'V': 21.8,\n",
       "  'Updated': 'Updated Feb. 10.69 UT',\n",
       "  'NObs': 5,\n",
       "  'Arc': 0.01,\n",
       "  'H': 13.0,\n",
       "  'Not_Seen_dys': 11.444},\n",
       " {'Temp_Desig': 'P10Xxqi',\n",
       "  'Score': 71,\n",
       "  'Discovery_year': 2020,\n",
       "  'Discovery_month': 2,\n",
       "  'Discovery_day': 1.3,\n",
       "  'R.A.': 6.4808,\n",
       "  'Decl.': 38.1278,\n",
       "  'V': 21.3,\n",
       "  'Updated': 'Updated Feb. 10.68 UT',\n",
       "  'NObs': 8,\n",
       "  'Arc': 0.77,\n",
       "  'H': 18.5,\n",
       "  'Not_Seen_dys': 10.217},\n",
       " {'Temp_Desig': 'N00g50z',\n",
       "  'Score': 100,\n",
       "  'Discovery_year': 2020,\n",
       "  'Discovery_month': 1,\n",
       "  'Discovery_day': 29.5,\n",
       "  'R.A.': 9.7191,\n",
       "  'Decl.': -42.0032,\n",
       "  'V': 19.1,\n",
       "  'Updated': 'Updated Feb. 10.68 UT',\n",
       "  'NObs': 5,\n",
       "  'Arc': 0.33,\n",
       "  'H': 19.0,\n",
       "  'Not_Seen_dys': 13.501},\n",
       " {'Temp_Desig': 'OCA6087',\n",
       "  'Score': 100,\n",
       "  'Discovery_year': 2020,\n",
       "  'Discovery_month': 1,\n",
       "  'Discovery_day': 29.3,\n",
       "  'R.A.': 14.9414,\n",
       "  'Decl.': -35.003,\n",
       "  'V': 18.8,\n",
       "  'Updated': 'Updated Feb. 10.67 UT',\n",
       "  'NObs': 3,\n",
       "  'Arc': 0.03,\n",
       "  'H': 12.3,\n",
       "  'Not_Seen_dys': 13.985},\n",
       " {'Temp_Desig': 'CB20005',\n",
       "  'Score': 74,\n",
       "  'Discovery_year': 2020,\n",
       "  'Discovery_month': 1,\n",
       "  'Discovery_day': 26.5,\n",
       "  'R.A.': 10.5152,\n",
       "  'Decl.': 26.5457,\n",
       "  'V': 20.2,\n",
       "  'Updated': 'Updated Feb. 10.69 UT',\n",
       "  'NObs': 5,\n",
       "  'Arc': 0.02,\n",
       "  'H': 18.8,\n",
       "  'Not_Seen_dys': 16.851},\n",
       " {'Temp_Desig': 'P10X8WU',\n",
       "  'Score': 100,\n",
       "  'Discovery_year': 2020,\n",
       "  'Discovery_month': 1,\n",
       "  'Discovery_day': 27.5,\n",
       "  'R.A.': 9.5675,\n",
       "  'Decl.': 24.1436,\n",
       "  'V': 21.6,\n",
       "  'Updated': 'Updated Feb. 10.68 UT',\n",
       "  'NObs': 4,\n",
       "  'Arc': 0.04,\n",
       "  'H': 15.3,\n",
       "  'Not_Seen_dys': 15.748},\n",
       " {'Temp_Desig': 'P10X1YT',\n",
       "  'Score': 100,\n",
       "  'Discovery_year': 2020,\n",
       "  'Discovery_month': 1,\n",
       "  'Discovery_day': 26.5,\n",
       "  'R.A.': 8.7117,\n",
       "  'Decl.': 28.8141,\n",
       "  'V': 23.3,\n",
       "  'Updated': 'Updated Feb. 10.67 UT',\n",
       "  'NObs': 9,\n",
       "  'Arc': 0.92,\n",
       "  'H': 24.9,\n",
       "  'Not_Seen_dys': 15.926},\n",
       " {'Temp_Desig': 'P10WzvL',\n",
       "  'Score': 100,\n",
       "  'Discovery_year': 2020,\n",
       "  'Discovery_month': 1,\n",
       "  'Discovery_day': 22.5,\n",
       "  'R.A.': 21.4342,\n",
       "  'Decl.': 11.1211,\n",
       "  'V': 28.9,\n",
       "  'Updated': 'Updated Feb. 10.68 UT',\n",
       "  'NObs': 6,\n",
       "  'Arc': 1.82,\n",
       "  'H': 24.9,\n",
       "  'Not_Seen_dys': 18.979},\n",
       " {'Temp_Desig': 'P10WjoJ',\n",
       "  'Score': 98,\n",
       "  'Discovery_year': 2020,\n",
       "  'Discovery_month': 1,\n",
       "  'Discovery_day': 21.3,\n",
       "  'R.A.': 14.5254,\n",
       "  'Decl.': -13.8772,\n",
       "  'V': 23.1,\n",
       "  'Updated': 'Updated Feb. 10.68 UT',\n",
       "  'NObs': 6,\n",
       "  'Arc': 0.89,\n",
       "  'H': 26.6,\n",
       "  'Not_Seen_dys': 21.117},\n",
       " {'Temp_Desig': 'CA200E8',\n",
       "  'Score': 94,\n",
       "  'Discovery_year': 2020,\n",
       "  'Discovery_month': 1,\n",
       "  'Discovery_day': 5.1,\n",
       "  'R.A.': 7.3593,\n",
       "  'Decl.': 41.9995,\n",
       "  'V': 22.0,\n",
       "  'Updated': 'Updated Feb. 10.68 UT',\n",
       "  'NObs': 10,\n",
       "  'Arc': 3.97,\n",
       "  'H': 18.5,\n",
       "  'Not_Seen_dys': 34.283},\n",
       " {'Temp_Desig': 'P10VUJL',\n",
       "  'Score': 79,\n",
       "  'Discovery_year': 2019,\n",
       "  'Discovery_month': 12,\n",
       "  'Discovery_day': 31.4,\n",
       "  'R.A.': 5.1114,\n",
       "  'Decl.': 51.9868,\n",
       "  'V': 22.6,\n",
       "  'Updated': 'Updated Feb. 10.68 UT',\n",
       "  'NObs': 6,\n",
       "  'Arc': 1.65,\n",
       "  'H': 17.1,\n",
       "  'Not_Seen_dys': 41.233}]"
      ]
     },
     "execution_count": 4,
     "metadata": {},
     "output_type": "execute_result"
    }
   ],
   "source": [
    "data"
   ]
  },
  {
   "cell_type": "code",
   "execution_count": 5,
   "metadata": {},
   "outputs": [],
   "source": [
    "ra = []\n",
    "dec = []\n",
    "z = []\n",
    "for obj in data:\n",
    "    ra.append(obj['R.A.'])\n",
    "    dec.append(obj['Decl.'])\n",
    "    z.append(obj['Arc'])\n",
    "z = np.asanyarray(z)"
   ]
  },
  {
   "cell_type": "code",
   "execution_count": 9,
   "metadata": {},
   "outputs": [
    {
     "data": {
      "image/png": "[encoded data removed]",
      "text/plain": [
       "<Figure size 432x288 with 1 Axes>"
      ]
     },
     "metadata": {
      "needs_background": "light"
     },
     "output_type": "display_data"
    }
   ],
   "source": [
    "# simple scatter plot\n",
    "min_size = np.min(z)\n",
    "sc = 1/min_size \n",
    "sizes = z * sc\n",
    "colors = z\n",
    "\n",
    "# object orientet approach\n",
    "fig, axes = plt.subplots()\n",
    "axes.scatter(ra, dec, c = z, alpha=0.3, s = sizes, cmap='viridis');\n",
    "axes.set_xlabel('R.A.')\n",
    "axes.set_ylabel('Decl.');"
   ]
  },
  {
   "cell_type": "code",
   "execution_count": 10,
   "metadata": {},
   "outputs": [
    {
     "data": {
      "image/png": "[encoded data removed]",
      "text/plain": [
       "<Figure size 432x288 with 1 Axes>"
      ]
     },
     "metadata": {
      "needs_background": "light"
     },
     "output_type": "display_data"
    }
   ],
   "source": [
    "# markers diversity\n",
    "rng = np.random.RandomState(0)\n",
    "for marker in ['o', '.', ',', 'x', '+', 'v', '^', '<', '>', 's', 'd']:\n",
    "    plt.plot(rng.rand(5), rng.rand(5), marker,\n",
    "    label=\"marker='{0}'\".format(marker))\n",
    "    plt.legend(numpoints=1)\n",
    "    plt.xlim(0, 1.8)"
   ]
  },
  {
   "cell_type": "code",
   "execution_count": 12,
   "metadata": {},
   "outputs": [
    {
     "data": {
      "image/png": "[encoded data removed]",
      "text/plain": [
       "<Figure size 432x288 with 1 Axes>"
      ]
     },
     "metadata": {
      "needs_background": "light"
     },
     "output_type": "display_data"
    }
   ],
   "source": [
    "# more marker style \n",
    "x = np.linspace(0, 10, 30)\n",
    "y = np.sin(x)\n",
    "\n",
    "plt.plot(x, y, '-p', color='gray',\n",
    "markersize=15, linewidth=4,\n",
    "markerfacecolor='white',\n",
    "markeredgecolor='gray',\n",
    "markeredgewidth=2)\n",
    "plt.ylim(-1.2, 1.2);"
   ]
  },
  {
   "cell_type": "code",
   "execution_count": null,
   "metadata": {},
   "outputs": [],
   "source": []
  }
 ],
 "metadata": {
  "kernelspec": {
   "display_name": "Python 3",
   "language": "python",
   "name": "python3"
  },
  "language_info": {
   "codemirror_mode": {
    "name": "ipython",
    "version": 3
   },
   "file_extension": ".py",
   "mimetype": "text/x-python",
   "name": "python",
   "nbconvert_exporter": "python",
   "pygments_lexer": "ipython3",
   "version": "3.7.3"
  }
 },
 "nbformat": 4,
 "nbformat_minor": 2
}
