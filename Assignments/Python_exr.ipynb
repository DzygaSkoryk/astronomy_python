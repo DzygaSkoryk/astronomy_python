{
  "nbformat": 4,
  "nbformat_minor": 0,
  "metadata": {
    "colab": {
      "name": "Python_exr.ipynb",
      "provenance": [],
      "collapsed_sections": [
        "XfS975Cg7NTE"
      ],
      "authorship_tag": "ABX9TyOQ4ZCA5YrjfRNKcoPQByoz",
      "include_colab_link": true
    },
    "kernelspec": {
      "name": "python3",
      "display_name": "Python 3"
    }
  },
  "cells": [
    {
      "cell_type": "markdown",
      "metadata": {
        "id": "view-in-github",
        "colab_type": "text"
      },
      "source": [
        "<a href=\"https://colab.research.google.com/github/DzygaSkoryk/astronomy_python/blob/master/Python_exr.ipynb\" target=\"_parent\"><img src=\"https://colab.research.google.com/assets/colab-badge.svg\" alt=\"Open In Colab\"/></a>"
      ]
    },
    {
      "cell_type": "markdown",
      "metadata": {
        "id": "XfS975Cg7NTE"
      },
      "source": [
        "#Data Science and Machine Learning in Astronomy with Python \n",
        "\n",
        "A course by Anastasiia Skoryk. "
      ]
    },
    {
      "cell_type": "markdown",
      "metadata": {
        "id": "irvFpYwm67JV"
      },
      "source": [
        "# Practice 1. Python basics \n",
        "Please don't use any specific library (your code should not contain import statement)."
      ]
    },
    {
      "cell_type": "markdown",
      "metadata": {
        "id": "tjCaBE_Y6ZXT"
      },
      "source": [
        "**1. Implement function sec_smallest(numbers) which returns second smallest item in the list, without using the built-in sorting methods (your code mustn't contain such words as 'sort', 'sorted'):**"
      ]
    },
    {
      "cell_type": "code",
      "metadata": {
        "id": "vtmsejC06bf0"
      },
      "source": [
        "def sec_smallest(numbers):\n",
        "    \"\"\"\n",
        "    :param numbers: list[int]\n",
        "    :return: int    \n",
        "    \"\"\"\n",
        "    # YOUR CODE HERE"
      ],
      "execution_count": null,
      "outputs": []
    },
    {
      "cell_type": "code",
      "metadata": {
        "id": "fyt5gWwP7u9c"
      },
      "source": [
        "print('Sec_smallest:', sec_smallest([1, 2, -8, -8, -2, 0]))"
      ],
      "execution_count": null,
      "outputs": []
    },
    {
      "cell_type": "markdown",
      "metadata": {
        "id": "vi-c_g7v73GS"
      },
      "source": [
        "Expected Output:\n",
        "\n",
        "Sec_smallest:\t-2\n"
      ]
    },
    {
      "cell_type": "markdown",
      "metadata": {
        "id": "54Li8x0nHtXj"
      },
      "source": [
        "**2. Implement function prime_nums(n) which returns all prime numbers in the input list:**"
      ]
    },
    {
      "cell_type": "code",
      "metadata": {
        "id": "G9wrofOi7310"
      },
      "source": [
        "def prime_nums(n):\n",
        "    \"\"\"\n",
        "    :param n: int\n",
        "    :return: list[int]\n",
        "    \"\"\"\n",
        "    # YOUR CODE HERE"
      ],
      "execution_count": null,
      "outputs": []
    },
    {
      "cell_type": "code",
      "metadata": {
        "id": "7OVDD-Ko7_xc",
        "colab": {
          "base_uri": "https://localhost:8080/",
          "height": 163
        },
        "outputId": "0e341206-e204-471a-e7be-a6afed692af0"
      },
      "source": [
        "print(prime_nums(n))"
      ],
      "execution_count": null,
      "outputs": [
        {
          "output_type": "error",
          "ename": "NameError",
          "evalue": "ignored",
          "traceback": [
            "\u001b[0;31m---------------------------------------------------------------------------\u001b[0m",
            "\u001b[0;31mNameError\u001b[0m                                 Traceback (most recent call last)",
            "\u001b[0;32m<ipython-input-1-7025922a8f4d>\u001b[0m in \u001b[0;36m<module>\u001b[0;34m()\u001b[0m\n\u001b[0;32m----> 1\u001b[0;31m \u001b[0mprint\u001b[0m\u001b[0;34m(\u001b[0m\u001b[0mprime_nums\u001b[0m\u001b[0;34m(\u001b[0m\u001b[0mn\u001b[0m\u001b[0;34m)\u001b[0m\u001b[0;34m)\u001b[0m\u001b[0;34m\u001b[0m\u001b[0;34m\u001b[0m\u001b[0m\n\u001b[0m",
            "\u001b[0;31mNameError\u001b[0m: name 'prime_nums' is not defined"
          ]
        }
      ]
    },
    {
      "cell_type": "markdown",
      "metadata": {
        "id": "8TwPVtPT8OgN"
      },
      "source": [
        "Expected Output:\n",
        "\n",
        "Index:\t1"
      ]
    },
    {
      "cell_type": "markdown",
      "metadata": {
        "id": "xBWsCbD9IChV"
      },
      "source": [
        "**3. Implement function max_sum_index(tuples), which returnes index of tuple in the list with maximum sum of elements:**"
      ]
    },
    {
      "cell_type": "code",
      "metadata": {
        "id": "EV9AwFPl8HaD"
      },
      "source": [
        "def max_sum_index(tuples):  \n",
        "    '''\n",
        "    :param tuples: list[tuple]\n",
        "    :return: int\n",
        "    '''\n",
        "    # YOUR CODE HERE"
      ],
      "execution_count": null,
      "outputs": []
    },
    {
      "cell_type": "code",
      "metadata": {
        "id": "Z7c4tgtRII38"
      },
      "source": [
        "print(max_sum_index([(10, 20), (40, 32), (30, 25)]))"
      ],
      "execution_count": null,
      "outputs": []
    },
    {
      "cell_type": "markdown",
      "metadata": {
        "id": "SBdGTdY9IJmQ"
      },
      "source": [
        "Expected Output:\n",
        "\n",
        "Index:\t1\n"
      ]
    },
    {
      "cell_type": "markdown",
      "metadata": {
        "id": "oblXCRw_JWHA"
      },
      "source": [
        "**4. Implement recursive sum of the list:**"
      ]
    },
    {
      "cell_type": "code",
      "metadata": {
        "id": "ZvPQEh67NHU4"
      },
      "source": [
        "def recursive_list_sum(data_list):\n",
        "    \"\"\"\n",
        "    :param data_list: list[list]\n",
        "    \"\"\"\n",
        "    # YOUR CODE HERE"
      ],
      "execution_count": null,
      "outputs": []
    },
    {
      "cell_type": "code",
      "metadata": {
        "id": "Q3tT-jZ0NIA9"
      },
      "source": [
        "print('The sum of a list is ', recursive_list_sum([1, 2, [3, 4], [5, 6], [7, 8, 9, [10]]]))"
      ],
      "execution_count": null,
      "outputs": []
    },
    {
      "cell_type": "markdown",
      "metadata": {
        "id": "jRnVt80QIMyC"
      },
      "source": [
        "Expected Output:\n",
        "\n",
        "The sum of a list is 55"
      ]
    },
    {
      "cell_type": "markdown",
      "metadata": {
        "id": "UH-fEE6iN05k"
      },
      "source": [
        "**5. Implement a function that check if the first and the last elements in a list are the same**"
      ]
    },
    {
      "cell_type": "code",
      "metadata": {
        "id": "fl2fVrz0IL_O"
      },
      "source": [
        "def First_And_Last_Same(numberList):\n",
        "    \"\"\"\n",
        "    :param numberList: list\n",
        "    \"\"\"\n",
        "    print(\"Given list is \", numberList)\n",
        "    # YOUR CODE HERE"
      ],
      "execution_count": null,
      "outputs": []
    },
    {
      "cell_type": "code",
      "metadata": {
        "id": "LHYXdkATOOVZ"
      },
      "source": [
        "numList = [10, 20, 30, 40, 10]\n",
        "print(\"result is\", First_And_Last_Same(numList))"
      ],
      "execution_count": null,
      "outputs": []
    },
    {
      "cell_type": "markdown",
      "metadata": {
        "id": "a5_j_JtgOUy9"
      },
      "source": [
        "Expected Output:\n",
        "\n",
        "Given list is  [10, 20, 30, 40, 10]\n",
        "result is True\n"
      ]
    },
    {
      "cell_type": "markdown",
      "metadata": {
        "id": "-17-SbecSLRl"
      },
      "source": [
        "**6. Implement function that unpack list of tuples into tupe of two lists. Hint: use list comprehention.**"
      ]
    },
    {
      "cell_type": "code",
      "metadata": {
        "id": "M9OEkbQLSKSD"
      },
      "source": [
        "def list_unpack(list_tuple):\n",
        "  \"\"\"\n",
        "  : param list_tuple: list of tuples\n",
        "  \"\"\"\n",
        "  # YOUR CODE HERE  "
      ],
      "execution_count": null,
      "outputs": []
    },
    {
      "cell_type": "code",
      "metadata": {
        "id": "VGa1LOJ3OUe0",
        "colab": {
          "base_uri": "https://localhost:8080/",
          "height": 34
        },
        "outputId": "ed5accdd-4401-477b-9a2f-afa28556fb6d"
      },
      "source": [
        "list = (('1','a'),('2','b'),('3','c'),('4','d'))\n",
        "print(list_unpack(list))"
      ],
      "execution_count": null,
      "outputs": [
        {
          "output_type": "stream",
          "text": [
            "(['1', '2', '3', '4'], ['a', 'b', 'c', 'd'])\n"
          ],
          "name": "stdout"
        }
      ]
    },
    {
      "cell_type": "markdown",
      "metadata": {
        "id": "mgqdjiTxTdKm"
      },
      "source": [
        "Expected Output:\n",
        "\n",
        "(['1', '2', '3', '4'], ['a', 'b', 'c', 'd'])"
      ]
    },
    {
      "cell_type": "code",
      "metadata": {
        "id": "FHF0uAFRU2u3"
      },
      "source": [
        ""
      ],
      "execution_count": null,
      "outputs": []
    }
  ]
}