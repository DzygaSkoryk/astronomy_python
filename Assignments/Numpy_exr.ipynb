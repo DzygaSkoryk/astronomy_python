{
 "cells": [
  {
   "cell_type": "markdown",
   "metadata": {},
   "source": [
    "# Data Science and Machine Learning in Astronomy with Python \n",
    "\n",
    "A course by Anastasiia Skoryk. \n",
    "\n",
    "2021/22"
   ]
  },
  {
   "cell_type": "markdown",
   "metadata": {},
   "source": [
    "## Practice 1. Numpy \n",
    "Please use Numpy library only."
   ]
  },
  {
   "cell_type": "code",
   "execution_count": 1,
   "metadata": {},
   "outputs": [],
   "source": [
    "import numpy as np"
   ]
  },
  {
   "cell_type": "markdown",
   "metadata": {},
   "source": [
    "**1. Extract all numbers between a given range from a numpy array**"
   ]
  },
  {
   "cell_type": "code",
   "execution_count": 2,
   "metadata": {},
   "outputs": [],
   "source": [
    "def extract_inrange(input_array, start, stop):\n",
    "    \"\"\"\n",
    "    input_array: 1d ndarray \n",
    "    start: int\n",
    "    stop: int\n",
    "    return: 1d ndarray / an input array without values from start to stop including\n",
    "    \"\"\"\n",
    "    # YOUR CODE HERE\n",
    "    "
   ]
  },
  {
   "cell_type": "code",
   "execution_count": 3,
   "metadata": {},
   "outputs": [
    {
     "name": "stdout",
     "output_type": "stream",
     "text": [
      "[0.18026969 0.01947524 0.46321853 0.72493393 0.4202036  0.4854271\n",
      " 0.01278081 0.48737161 0.94180665 0.85079509 0.72996447 0.10873607\n",
      " 0.89390417 0.85715425 0.16508662] \n",
      "\n",
      "[0.46321853 0.4202036  0.4854271  0.48737161] \n",
      "\n",
      "[0.72493393 0.94180665 0.85079509 0.72996447 0.89390417 0.85715425]\n"
     ]
    }
   ],
   "source": [
    "np.random.seed(11)\n",
    "my_array = np.random.random(15)\n",
    "print(my_array, '\\n')\n",
    "print(extract_inrange(my_array, 0.3, 0.5), '\\n')\n",
    "print(extract_inrange(my_array, 0.5, 1.5))"
   ]
  },
  {
   "cell_type": "markdown",
   "metadata": {},
   "source": [
    "**2. Find the nearest value to a given value in an array**"
   ]
  },
  {
   "cell_type": "code",
   "execution_count": 4,
   "metadata": {},
   "outputs": [],
   "source": [
    "def nearest_value(input_array, value):\n",
    "    \"\"\"\n",
    "    input array: 1d ndarray\n",
    "    value: float\n",
    "    return: float, int / value and index from an array\n",
    "    \"\"\"\n",
    "    # YOUR CODE HERE\n"
   ]
  },
  {
   "cell_type": "code",
   "execution_count": 109,
   "metadata": {},
   "outputs": [
    {
     "name": "stdout",
     "output_type": "stream",
     "text": [
      "[0.18026969 0.01947524 0.46321853 0.72493393 0.4202036  0.4854271\n",
      " 0.01278081 0.48737161 0.94180665 0.85079509]\n",
      "(0.4873716073198716, 7)\n"
     ]
    }
   ],
   "source": [
    "np.random.seed(11)\n",
    "my_array = np.random.uniform(0,1,10)\n",
    "\n",
    "print(my_array)\n",
    "print(nearest_value(my_array, 0.5))"
   ]
  },
  {
   "cell_type": "markdown",
   "metadata": {},
   "source": [
    "**3. Write a function that computes the moving average of a 1d numpy array**"
   ]
  },
  {
   "cell_type": "code",
   "execution_count": 41,
   "metadata": {},
   "outputs": [],
   "source": [
    "def moving_average(input_array, w):\n",
    "    \"\"\"\n",
    "    input_array: 1d nd array\n",
    "    w: int / window\n",
    "    return: 1d ndarray\n",
    "    \"\"\"\n",
    "    # YOUR CODE HERE\n"
   ]
  },
  {
   "cell_type": "code",
   "execution_count": 47,
   "metadata": {},
   "outputs": [
    {
     "name": "stdout",
     "output_type": "stream",
     "text": [
      "[9 0 1 7 1 7 2 8 0 0]\n",
      "['3.333', '2.667', '3.000', '5.000', '3.333', '5.667', '3.333', '2.667']\n"
     ]
    }
   ],
   "source": [
    "# Check yourself: what should be the size of the output array?\n",
    "\n",
    "np.random.seed(11)\n",
    "input_array = np.random.randint(10, size=10)\n",
    "\n",
    "print(input_array)\n",
    "print(['{:.3f}'.format(el) for el in moving_average(input_array, 3)])"
   ]
  },
  {
   "cell_type": "markdown",
   "metadata": {},
   "source": [
    "**4. Find the index of the Nth repetition of an item in an array**"
   ]
  },
  {
   "cell_type": "code",
   "execution_count": 36,
   "metadata": {},
   "outputs": [],
   "source": [
    "def find_repetition(input_array, item, n):\n",
    "    \"\"\"\n",
    "    input_array: ndarray\n",
    "    item: int / a target value\n",
    "    n: int / number of repetition\n",
    "    return: int / index\n",
    "    \"\"\"\n",
    "    # YOUR CODE HERE\n"
   ]
  },
  {
   "cell_type": "code",
   "execution_count": 35,
   "metadata": {},
   "outputs": [
    {
     "name": "stdout",
     "output_type": "stream",
     "text": [
      "[1 2 2 1 3 4 3 1 1 2 1 1 2]\n",
      "There is no \"0\" in the input array\n",
      "None \n",
      "\n",
      "There are less \"4\" than 5\n",
      "None \n",
      "\n",
      "7\n"
     ]
    }
   ],
   "source": [
    "input_array = np.array([1, 2, 2, 1, 3, 4, 3, 1, 1, 2, 1, 1, 2])\n",
    "\n",
    "print(input_array)\n",
    "print(find_repetition(input_array, 0, 3), '\\n')\n",
    "print(find_repetition(input_array, 4, 5), '\\n')\n",
    "print(find_repetition(input_array, 1, 3))"
   ]
  },
  {
   "cell_type": "markdown",
   "metadata": {},
   "source": [
    "**5. Find the duplicate entries (if 2 or more occurrences) in the given array and mark them as False. First time occurrences should be True.**"
   ]
  },
  {
   "cell_type": "code",
   "execution_count": 6,
   "metadata": {},
   "outputs": [],
   "source": [
    "def mark_first(input_array):\n",
    "    \"\"\"\n",
    "    input_array: 1d ndarray \n",
    "    return: 1d ndarray / boolean mask\n",
    "    \"\"\"\n",
    "    # YOUR CODE HERE\n"
   ]
  },
  {
   "cell_type": "code",
   "execution_count": 7,
   "metadata": {},
   "outputs": [
    {
     "name": "stdout",
     "output_type": "stream",
     "text": [
      "[1 0 3 1 4 1 2 0 4 0]\n",
      "[ True  True  True False  True False  True False False False]\n"
     ]
    }
   ],
   "source": [
    "np.random.seed(11)\n",
    "input_array = np.random.randint(0, 5, 10)\n",
    "\n",
    "print(input_array)\n",
    "print(mark_first(input_array))"
   ]
  },
  {
   "cell_type": "markdown",
   "metadata": {},
   "source": [
    "**6. Compute the min-by-max relation (minimum/maximum) for each row for given 2d numpy array**"
   ]
  },
  {
   "cell_type": "code",
   "execution_count": 17,
   "metadata": {},
   "outputs": [],
   "source": [
    "def min_by_max(my_array):\n",
    "    \"\"\"\n",
    "    my_array: 2d ndarray\n",
    "    return: 1d ndarray / row vector\n",
    "    \"\"\"\n",
    "    # YOUR CODE HERE\n",
    "   "
   ]
  },
  {
   "cell_type": "code",
   "execution_count": 58,
   "metadata": {},
   "outputs": [
    {
     "name": "stdout",
     "output_type": "stream",
     "text": [
      "[[26 64 81]\n",
      " [92 82 56]\n",
      " [14 77 34]\n",
      " [72 83 25]\n",
      " [93 49 33]] \n",
      "\n",
      "['0.1505', '0.5904', '0.3086']\n"
     ]
    }
   ],
   "source": [
    "np.random.seed(11)\n",
    "my_array = np.random.randint(1,100, [5,3])\n",
    "print(my_array, '\\n')\n",
    "print(['{:.4f}'.format(el) for el in min_by_max(my_array)])"
   ]
  },
  {
   "cell_type": "markdown",
   "metadata": {},
   "source": [
    "**7. Write a function that convert 2d cartesian coordinate into polar. Input array represent an x,y cartesian coordinates. Output array should have the same shape**"
   ]
  },
  {
   "cell_type": "code",
   "execution_count": 86,
   "metadata": {},
   "outputs": [],
   "source": [
    "def cart2polar(cart_coord):\n",
    "    \"\"\"\n",
    "    cart: 2d ndarray / rows are x and y\n",
    "    return:  2d ndarray / rows are distance and angle\n",
    "    \"\"\"\n",
    "    # YOUR CODE HERE\n"
   ]
  },
  {
   "cell_type": "code",
   "execution_count": 93,
   "metadata": {},
   "outputs": [
    {
     "name": "stdout",
     "output_type": "stream",
     "text": [
      "[[0.18026969 0.01947524]\n",
      " [0.46321853 0.72493393]\n",
      " [0.4202036  0.4854271 ]\n",
      " [0.01278081 0.48737161]\n",
      " [0.94180665 0.85079509]\n",
      " [0.72996447 0.10873607]] \n",
      "\n",
      "[[0.18131863 0.10761654]\n",
      " [0.860291   1.00220684]\n",
      " [0.64203624 0.857294  ]\n",
      " [0.48753916 1.54457837]\n",
      " [1.26919347 0.73467107]\n",
      " [0.73801874 0.14787343]]\n"
     ]
    }
   ],
   "source": [
    "np.random.seed(11)\n",
    "my_array = np.random.random((6,2))\n",
    "print(my_array, '\\n')\n",
    "print(cart2polar(my_array))"
   ]
  },
  {
   "cell_type": "markdown",
   "metadata": {},
   "source": [
    "### Open problem.\n",
    "Split a 2d array (for example, an image) into many smaller rectangular blocks with the same sizes.**\n",
    "Task: take an image below and split it into 12 equivalent pieces: 3 in row, 4 in column. Some information in corners might be lost.   "
   ]
  },
  {
   "cell_type": "code",
   "execution_count": 59,
   "metadata": {},
   "outputs": [
    {
     "data": {
      "image/png": "[encoded data removed]",
      "text/plain": [
       "<Figure size 432x288 with 1 Axes>"
      ]
     },
     "metadata": {
      "needs_background": "light"
     },
     "output_type": "display_data"
    }
   ],
   "source": [
    "import matplotlib.pyplot as plt \n",
    "from matplotlib import image\n",
    "moon = image.imread('moon.jpg')\n",
    "plt.imshow(moon)\n",
    "plt.axis('off');"
   ]
  },
  {
   "cell_type": "code",
   "execution_count": null,
   "metadata": {},
   "outputs": [],
   "source": []
  }
 ],
 "metadata": {
  "kernelspec": {
   "display_name": "Python 3",
   "language": "python",
   "name": "python3"
  },
  "language_info": {
   "codemirror_mode": {
    "name": "ipython",
    "version": 3
   },
   "file_extension": ".py",
   "mimetype": "text/x-python",
   "name": "python",
   "nbconvert_exporter": "python",
   "pygments_lexer": "ipython3",
   "version": "3.8.10"
  }
 },
 "nbformat": 4,
 "nbformat_minor": 4
}
