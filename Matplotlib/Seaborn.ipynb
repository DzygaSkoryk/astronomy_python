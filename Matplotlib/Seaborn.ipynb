{
 "cells": [
  {
   "cell_type": "markdown",
   "metadata": {},
   "source": [
    "Pairplots and grid plots \n",
    "\n",
    "https://towardsdatascience.com/visualizing-data-with-pair-plots-in-python-f228cf529166"
   ]
  },
  {
   "cell_type": "code",
   "execution_count": 1,
   "metadata": {},
   "outputs": [],
   "source": [
    "import numpy as np"
   ]
  },
  {
   "cell_type": "code",
   "execution_count": 7,
   "metadata": {},
   "outputs": [],
   "source": [
    "N = 9"
   ]
  },
  {
   "cell_type": "code",
   "execution_count": 16,
   "metadata": {},
   "outputs": [
    {
     "name": "stdout",
     "output_type": "stream",
     "text": [
      "2  over  1  =>  0\n",
      "3  over  1  =>  0\n",
      "3  over  2  =>  1\n",
      "4  over  1  =>  0\n",
      "4  over  2  =>  0\n",
      "4  over  3  =>  1\n",
      "5  over  1  =>  0\n",
      "5  over  2  =>  1\n",
      "5  over  3  =>  2\n",
      "5  over  4  =>  1\n",
      "6  over  1  =>  0\n",
      "6  over  2  =>  0\n",
      "6  over  3  =>  0\n",
      "6  over  4  =>  2\n",
      "6  over  5  =>  1\n",
      "7  over  1  =>  0\n",
      "7  over  2  =>  1\n",
      "7  over  3  =>  1\n",
      "7  over  4  =>  3\n",
      "7  over  5  =>  2\n",
      "7  over  6  =>  1\n",
      "8  over  1  =>  0\n",
      "8  over  2  =>  0\n",
      "8  over  3  =>  2\n",
      "8  over  4  =>  0\n",
      "8  over  5  =>  3\n",
      "8  over  6  =>  2\n",
      "8  over  7  =>  1\n",
      "9  over  1  =>  0\n",
      "9  over  2  =>  1\n",
      "9  over  3  =>  0\n",
      "9  over  4  =>  1\n",
      "9  over  5  =>  4\n",
      "9  over  6  =>  3\n",
      "9  over  7  =>  2\n",
      "9  over  8  =>  1\n"
     ]
    }
   ],
   "source": [
    "for i in range(1,N+1):\n",
    "    for j in range(1,i):\n",
    "        print(i, ' over ', j, ' => ', i%j)\n",
    "#         if i/j==0:\n",
    "        "
   ]
  },
  {
   "cell_type": "code",
   "execution_count": null,
   "metadata": {},
   "outputs": [],
   "source": []
  }
 ],
 "metadata": {
  "kernelspec": {
   "display_name": "Python 3",
   "language": "python",
   "name": "python3"
  },
  "language_info": {
   "codemirror_mode": {
    "name": "ipython",
    "version": 3
   },
   "file_extension": ".py",
   "mimetype": "text/x-python",
   "name": "python",
   "nbconvert_exporter": "python",
   "pygments_lexer": "ipython3",
   "version": "3.7.3"
  }
 },
 "nbformat": 4,
 "nbformat_minor": 2
}
