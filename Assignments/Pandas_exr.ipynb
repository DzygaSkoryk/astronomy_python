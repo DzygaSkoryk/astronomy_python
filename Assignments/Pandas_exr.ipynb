{
 "cells": [
  {
   "cell_type": "markdown",
   "metadata": {},
   "source": [
    "# Data Science and Machine Learning in Astronomy with Python \n",
    "\n",
    "A course by Anastasiia Skoryk. \n",
    "\n",
    "2020/21"
   ]
  },
  {
   "cell_type": "markdown",
   "metadata": {},
   "source": [
    "Take data from \n",
    "https://exoplanetarchive.ipac.caltech.edu/docs/program_interfaces.html#confirmed"
   ]
  },
  {
   "cell_type": "markdown",
   "metadata": {},
   "source": [
    "## Practice 3. Pandas \n",
    "Please use Pandas library."
   ]
  },
  {
   "cell_type": "code",
   "execution_count": 33,
   "metadata": {},
   "outputs": [],
   "source": [
    "import pandas as pd"
   ]
  },
  {
   "cell_type": "markdown",
   "metadata": {},
   "source": [
    "### 1. Load dataset from URL. Assign data to the variable planets. Show 5 first rows.\n",
    "https://exoplanetarchive.ipac.caltech.edu/cgi-bin/nstedAPI/nph-nstedAPI?table=exoplanets\n",
    "\n",
    "Check the documentation for the dataset here: https://exoplanetarchive.ipac.caltech.edu/docs/API_exoplanet_columns.html "
   ]
  },
  {
   "cell_type": "code",
   "execution_count": null,
   "metadata": {},
   "outputs": [],
   "source": []
  },
  {
   "cell_type": "markdown",
   "metadata": {},
   "source": [
    "### 2. Describe data and find out following infornation: \n",
    "\n",
    "- What is the number of observations? \n",
    "- How many columns in the table?\n",
    "- What are the names of all the columns?"
   ]
  },
  {
   "cell_type": "code",
   "execution_count": null,
   "metadata": {
    "id": "XAtf6kUIAJoq"
   },
   "outputs": [],
   "source": []
  },
  {
   "cell_type": "markdown",
   "metadata": {},
   "source": [
    "### 3. Create new dataset (copy, not view!) from the planets with specific columns:\n",
    "\n",
    "['pl_hostname', 'pl_letter', 'pl_name', 'pl_discmethod', 'pl_pnum', 'pl_orbper', 'pl_bmassj', 'pl_radj','st_dist', 'gaia_gmag']\n",
    "\n",
    "Check the following information about new table: \n",
    "\n",
    "- number of Non-Null values\n",
    "- data type of the column"
   ]
  },
  {
   "cell_type": "code",
   "execution_count": null,
   "metadata": {},
   "outputs": [],
   "source": []
  },
  {
   "cell_type": "code",
   "execution_count": null,
   "metadata": {},
   "outputs": [],
   "source": []
  },
  {
   "cell_type": "markdown",
   "metadata": {},
   "source": [
    "### 4. Check if new dataframe is a copy of the original? \n",
    "\n",
    "- Change one of the value of the planets dataframe by purpose (for instanse the [0,0] value)\n",
    "- Check the original dataframe\n",
    "- Check the new dataframe. Has it changed? "
   ]
  },
  {
   "cell_type": "code",
   "execution_count": null,
   "metadata": {},
   "outputs": [],
   "source": []
  },
  {
   "cell_type": "code",
   "execution_count": null,
   "metadata": {},
   "outputs": [],
   "source": []
  },
  {
   "cell_type": "code",
   "execution_count": null,
   "metadata": {},
   "outputs": [],
   "source": []
  },
  {
   "cell_type": "markdown",
   "metadata": {
    "colab": {
     "base_uri": "https://localhost:8080/",
     "height": 132
    },
    "id": "6Kxo_j0mAk-y",
    "outputId": "c3b5d873-d4d6-40e1-fb1c-b1cc45f02ee3"
   },
   "source": [
    "### 5. Describe main statistics with all columns (numerical and non-numerical)"
   ]
  },
  {
   "cell_type": "code",
   "execution_count": null,
   "metadata": {
    "id": "OB-W4C5HApgC"
   },
   "outputs": [],
   "source": []
  },
  {
   "cell_type": "markdown",
   "metadata": {},
   "source": [
    "### 6. Discover the NaN values in the new table\n",
    "\n",
    "- What is the most sparse column (contains the biggest number of NaN)?\n",
    "- How many NaN values is in it?\n",
    "- Replace all NaN with 0 in this column (make sure that the dataframe must change as well)"
   ]
  },
  {
   "cell_type": "code",
   "execution_count": null,
   "metadata": {},
   "outputs": [],
   "source": []
  },
  {
   "cell_type": "code",
   "execution_count": null,
   "metadata": {},
   "outputs": [],
   "source": []
  }
 ],
 "metadata": {
  "colab": {
   "authorship_tag": "ABX9TyMizQK5BaINKwFc2y86t3mQ",
   "include_colab_link": true,
   "name": "Pandas_exr.ipynb",
   "provenance": []
  },
  "kernelspec": {
   "display_name": "Python 3",
   "language": "python",
   "name": "python3"
  },
  "language_info": {
   "codemirror_mode": {
    "name": "ipython",
    "version": 3
   },
   "file_extension": ".py",
   "mimetype": "text/x-python",
   "name": "python",
   "nbconvert_exporter": "python",
   "pygments_lexer": "ipython3",
   "version": "3.8.5"
  }
 },
 "nbformat": 4,
 "nbformat_minor": 1
}
