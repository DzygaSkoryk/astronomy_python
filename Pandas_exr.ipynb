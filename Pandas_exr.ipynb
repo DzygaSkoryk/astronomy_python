{
  "nbformat": 4,
  "nbformat_minor": 0,
  "metadata": {
    "colab": {
      "name": "Pandas_exr.ipynb",
      "provenance": [],
      "authorship_tag": "ABX9TyMizQK5BaINKwFc2y86t3mQ",
      "include_colab_link": true
    },
    "kernelspec": {
      "name": "python3",
      "display_name": "Python 3"
    }
  },
  "cells": [
    {
      "cell_type": "markdown",
      "metadata": {
        "id": "view-in-github",
        "colab_type": "text"
      },
      "source": [
        "<a href=\"https://colab.research.google.com/github/DzygaSkoryk/astronomy_python/blob/master/Pandas_exr.ipynb\" target=\"_parent\"><img src=\"https://colab.research.google.com/assets/colab-badge.svg\" alt=\"Open In Colab\"/></a>"
      ]
    },
    {
      "cell_type": "code",
      "metadata": {
        "id": "krtlyRRSzu8B"
      },
      "source": [
        "# Sort by the name of the item"
      ],
      "execution_count": 1,
      "outputs": []
    },
    {
      "cell_type": "code",
      "metadata": {
        "id": "XAtf6kUIAJoq"
      },
      "source": [
        "# Calculate the mean Yellow Cards given per Team¶"
      ],
      "execution_count": null,
      "outputs": []
    },
    {
      "cell_type": "code",
      "metadata": {
        "colab": {
          "base_uri": "https://localhost:8080/",
          "height": 132
        },
        "id": "6Kxo_j0mAk-y",
        "outputId": "c3b5d873-d4d6-40e1-fb1c-b1cc45f02ee3"
      },
      "source": [
        "# What is the most frequent occupation?¶\n",
        "value_counts().head(1)\n",
        ".value_counts().tail()"
      ],
      "execution_count": null,
      "outputs": [
        {
          "output_type": "error",
          "ename": "SyntaxError",
          "evalue": "ignored",
          "traceback": [
            "\u001b[0;36m  File \u001b[0;32m\"<ipython-input-3-9a9053e3b3f0>\"\u001b[0;36m, line \u001b[0;32m2\u001b[0m\n\u001b[0;31m    What is the most frequent occupation?¶\u001b[0m\n\u001b[0m                   ^\u001b[0m\n\u001b[0;31mSyntaxError\u001b[0m\u001b[0;31m:\u001b[0m invalid syntax\n"
          ]
        }
      ]
    },
    {
      "cell_type": "code",
      "metadata": {
        "id": "OB-W4C5HApgC"
      },
      "source": [
        "describe()"
      ],
      "execution_count": null,
      "outputs": []
    }
  ]
}